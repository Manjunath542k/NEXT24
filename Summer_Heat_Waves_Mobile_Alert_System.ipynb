{
  "nbformat": 4,
  "nbformat_minor": 0,
  "metadata": {
    "colab": {
      "provenance": []
    },
    "kernelspec": {
      "name": "python3",
      "display_name": "Python 3"
    },
    "language_info": {
      "name": "python"
    }
  },
  "cells": [
    {
      "cell_type": "code",
      "execution_count": 3,
      "metadata": {
        "colab": {
          "base_uri": "https://localhost:8080/"
        },
        "id": "THjLTc4DMYxb",
        "outputId": "d7f60525-fc67-413f-c491-76f32cb0f792"
      },
      "outputs": [
        {
          "output_type": "stream",
          "name": "stdout",
          "text": [
            "Alert: Heat wave alert: High temperature detected. Start Date: 2022-01-04 00:00:00 End Date: 2022-01-05 00:00:00\n",
            "Alert: Heat wave alert: High temperature detected. Start Date: 2022-01-09 00:00:00 End Date: 2022-01-09 00:00:00\n",
            "Alert: Heat wave alert: High temperature detected. Start Date: 2022-02-10 00:00:00 End Date: 2022-02-10 00:00:00\n",
            "Alert: Heat wave alert: High temperature detected. Start Date: 2022-02-16 00:00:00 End Date: 2022-02-16 00:00:00\n",
            "Alert: Heat wave alert: High temperature detected. Start Date: 2022-02-18 00:00:00 End Date: 2022-02-18 00:00:00\n",
            "Alert: Heat wave alert: High temperature detected. Start Date: 2022-02-27 00:00:00 End Date: 2022-02-27 00:00:00\n",
            "Alert: Heat wave alert: High temperature detected. Start Date: 2022-03-18 00:00:00 End Date: 2022-03-18 00:00:00\n",
            "Alert: Heat wave alert: High temperature detected. Start Date: 2022-04-07 00:00:00 End Date: 2022-04-07 00:00:00\n",
            "Alert: Heat wave alert: High temperature detected. Start Date: 2022-04-12 00:00:00 End Date: 2022-04-14 00:00:00\n",
            "Alert: Heat wave alert: High temperature detected. Start Date: 2022-05-14 00:00:00 End Date: 2022-05-14 00:00:00\n",
            "Alert: Heat wave alert: High temperature detected. Start Date: 2022-05-16 00:00:00 End Date: 2022-05-16 00:00:00\n",
            "Alert: Heat wave alert: High temperature detected. Start Date: 2022-05-20 00:00:00 End Date: 2022-05-20 00:00:00\n",
            "Alert: Heat wave alert: High temperature detected. Start Date: 2022-05-23 00:00:00 End Date: 2022-05-23 00:00:00\n",
            "Alert: Heat wave alert: High temperature detected. Start Date: 2022-05-26 00:00:00 End Date: 2022-05-26 00:00:00\n",
            "Alert: Heat wave alert: High temperature detected. Start Date: 2022-06-02 00:00:00 End Date: 2022-06-02 00:00:00\n",
            "Alert: Heat wave alert: High temperature detected. Start Date: 2022-06-17 00:00:00 End Date: 2022-06-17 00:00:00\n",
            "Alert: Heat wave alert: High temperature detected. Start Date: 2022-06-20 00:00:00 End Date: 2022-06-20 00:00:00\n",
            "Alert: Heat wave alert: High temperature detected. Start Date: 2022-06-25 00:00:00 End Date: 2022-06-25 00:00:00\n",
            "Alert: Heat wave alert: High temperature detected. Start Date: 2022-06-30 00:00:00 End Date: 2022-06-30 00:00:00\n",
            "Alert: Heat wave alert: High temperature detected. Start Date: 2022-07-08 00:00:00 End Date: 2022-07-08 00:00:00\n",
            "Alert: Heat wave alert: High temperature detected. Start Date: 2022-07-15 00:00:00 End Date: 2022-07-15 00:00:00\n",
            "Alert: Heat wave alert: High temperature detected. Start Date: 2022-07-19 00:00:00 End Date: 2022-07-19 00:00:00\n",
            "Alert: Heat wave alert: High temperature detected. Start Date: 2022-07-28 00:00:00 End Date: 2022-07-28 00:00:00\n",
            "Alert: Heat wave alert: High temperature detected. Start Date: 2022-07-30 00:00:00 End Date: 2022-07-30 00:00:00\n",
            "Alert: Heat wave alert: High temperature detected. Start Date: 2022-08-03 00:00:00 End Date: 2022-08-04 00:00:00\n",
            "Alert: Heat wave alert: High temperature detected. Start Date: 2022-08-07 00:00:00 End Date: 2022-08-07 00:00:00\n",
            "Alert: Heat wave alert: High temperature detected. Start Date: 2022-08-15 00:00:00 End Date: 2022-08-15 00:00:00\n",
            "Alert: Heat wave alert: High temperature detected. Start Date: 2022-08-17 00:00:00 End Date: 2022-08-17 00:00:00\n",
            "Alert: Heat wave alert: High temperature detected. Start Date: 2022-08-30 00:00:00 End Date: 2022-08-30 00:00:00\n",
            "Alert: Heat wave alert: High temperature detected. Start Date: 2022-09-08 00:00:00 End Date: 2022-09-09 00:00:00\n",
            "Alert: Heat wave alert: High temperature detected. Start Date: 2022-09-13 00:00:00 End Date: 2022-09-13 00:00:00\n",
            "Alert: Heat wave alert: High temperature detected. Start Date: 2022-09-15 00:00:00 End Date: 2022-09-15 00:00:00\n",
            "Alert: Heat wave alert: High temperature detected. Start Date: 2022-09-27 00:00:00 End Date: 2022-09-27 00:00:00\n",
            "Alert: Heat wave alert: High temperature detected. Start Date: 2022-10-02 00:00:00 End Date: 2022-10-03 00:00:00\n",
            "Alert: Heat wave alert: High temperature detected. Start Date: 2022-10-07 00:00:00 End Date: 2022-10-07 00:00:00\n",
            "Alert: Heat wave alert: High temperature detected. Start Date: 2022-10-13 00:00:00 End Date: 2022-10-13 00:00:00\n",
            "Alert: Heat wave alert: High temperature detected. Start Date: 2022-10-18 00:00:00 End Date: 2022-10-19 00:00:00\n",
            "Alert: Heat wave alert: High temperature detected. Start Date: 2022-11-08 00:00:00 End Date: 2022-11-08 00:00:00\n",
            "Alert: Heat wave alert: High temperature detected. Start Date: 2022-11-10 00:00:00 End Date: 2022-11-10 00:00:00\n",
            "Alert: Heat wave alert: High temperature detected. Start Date: 2022-11-21 00:00:00 End Date: 2022-11-21 00:00:00\n",
            "Alert: Heat wave alert: High temperature detected. Start Date: 2022-11-24 00:00:00 End Date: 2022-11-24 00:00:00\n",
            "Alert: Heat wave alert: High temperature detected. Start Date: 2022-11-28 00:00:00 End Date: 2022-11-29 00:00:00\n",
            "Alert: Heat wave alert: High temperature detected. Start Date: 2022-12-03 00:00:00 End Date: 2022-12-03 00:00:00\n",
            "Alert: Heat wave alert: High temperature detected. Start Date: 2022-12-08 00:00:00 End Date: 2022-12-08 00:00:00\n",
            "Alert: Heat wave alert: High temperature detected. Start Date: 2022-12-26 00:00:00 End Date: 2022-12-26 00:00:00\n"
          ]
        }
      ],
      "source": [
        "import pandas as pd\n",
        "import numpy as np\n",
        "from datetime import datetime, timedelta\n",
        "\n",
        "# Sample historical weather data (dummy data)\n",
        "data = {\n",
        "    'date': pd.date_range(start='2022-01-01', periods=365),\n",
        "    'temperature': np.random.uniform(10, 40, 365)  # Random temperature values for illustration\n",
        "}\n",
        "\n",
        "df = pd.DataFrame(data)\n",
        "\n",
        "# Define a function to generate alerts based on temperature thresholds\n",
        "def generate_heat_wave_alerts(df, threshold_temp):\n",
        "    alerts = []\n",
        "    heat_wave_started = False\n",
        "    heat_wave_start_date = None\n",
        "\n",
        "    for index, row in df.iterrows():\n",
        "        if row['temperature'] >= threshold_temp:\n",
        "            if not heat_wave_started:\n",
        "                heat_wave_start_date = row['date']\n",
        "                heat_wave_started = True\n",
        "        else:\n",
        "            if heat_wave_started:\n",
        "                heat_wave_end_date = row['date'] - timedelta(days=1)\n",
        "                alerts.append({\n",
        "                    'start_date': heat_wave_start_date,\n",
        "                    'end_date': heat_wave_end_date,\n",
        "                    'severity': 'High',  # Placeholder for severity level based on criteria\n",
        "                    'message': 'Heat wave alert: High temperature detected.'\n",
        "                })\n",
        "                heat_wave_started = False\n",
        "\n",
        "    return alerts\n",
        "\n",
        "# Example usage\n",
        "if __name__ == \"__main__\":\n",
        "    threshold_temperature = 35  # Example threshold temperature (adjust as needed)\n",
        "\n",
        "    alerts = generate_heat_wave_alerts(df, threshold_temperature)\n",
        "\n",
        "    # Print alerts (in real application, you would send alerts to a mobile platform)\n",
        "    for alert in alerts:\n",
        "        print(f\"Alert: {alert['message']} Start Date: {alert['start_date']} End Date: {alert['end_date']}\")\n"
      ]
    }
  ]
}